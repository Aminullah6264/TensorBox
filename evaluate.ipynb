{
 "cells": [
  {
   "cell_type": "code",
   "execution_count": 1,
   "metadata": {},
   "outputs": [
    {
     "name": "stdout",
     "output_type": "stream",
     "text": [
      "WARNING:tensorflow:From /usr/local/lib/python2.7/dist-packages/tensorflow/contrib/learn/python/learn/datasets/base.py:198: retry (from tensorflow.contrib.learn.python.learn.datasets.base) is deprecated and will be removed in a future version.\n",
      "Instructions for updating:\n",
      "Use the retry module or similar alternatives.\n"
     ]
    }
   ],
   "source": [
    "import tensorflow as tf\n",
    "import matplotlib.pyplot as plt\n",
    "import os\n",
    "import json\n",
    "import subprocess\n",
    "from scipy.misc import imread\n",
    "%matplotlib inline\n",
    "\n",
    "from train import build_forward\n",
    "from utils import train_utils\n",
    "from utils.annolist import AnnotationLib as al\n",
    "from utils.stitch_wrapper import stitch_rects\n",
    "from utils.train_utils import add_rectangles\n",
    "from utils.rect import Rect\n",
    "from utils.stitch_wrapper import stitch_rects\n",
    "from evaluate import add_rectangles\n",
    "import cv2"
   ]
  },
  {
   "cell_type": "code",
   "execution_count": 2,
   "metadata": {},
   "outputs": [],
   "source": [
    "output_folder = './output/overfeat_resnet_rezoom_2018_04_02_19.05'\n",
    "iteration = 140000"
   ]
  },
  {
   "cell_type": "code",
   "execution_count": 3,
   "metadata": {},
   "outputs": [],
   "source": [
    "hypes_file = \"%s/hypes.json\" % output_folder\n",
    "with open(hypes_file, 'r') as f:\n",
    "    H = json.load(f)\n",
    "H[\"grid_width\"] = H[\"image_width\"] / H[\"region_size\"]\n",
    "H[\"grid_height\"] = H[\"image_height\"] / H[\"region_size\"]\n",
    "true_json = './data/brainwash/val_boxes.json'\n",
    "pred_json = './output/%d_val_%s.json' % (iteration, os.path.basename(hypes_file).replace('.json', ''))\n",
    "true_annos = al.parse(true_json)"
   ]
  },
  {
   "cell_type": "code",
   "execution_count": null,
   "metadata": {
    "scrolled": false
   },
   "outputs": [
    {
     "name": "stdout",
     "output_type": "stream",
     "text": [
      "WARNING:tensorflow:From utils/slim_nets/resnet_v1.py:196: calling reduce_mean (from tensorflow.python.ops.math_ops) with keep_dims is deprecated and will be removed in a future version.\n",
      "Instructions for updating:\n",
      "keep_dims is deprecated, use keepdims instead\n",
      "INFO:tensorflow:Restoring parameters from ./output/overfeat_resnet_rezoom_2018_04_02_19.05/save.ckpt-140000\n"
     ]
    },
    {
     "name": "stderr",
     "output_type": "stream",
     "text": [
      "/usr/local/lib/python2.7/dist-packages/ipykernel_launcher.py:20: DeprecationWarning: `imread` is deprecated!\n",
      "`imread` is deprecated in SciPy 1.0.0, and will be removed in 1.2.0.\n",
      "Use ``imageio.imread`` instead.\n"
     ]
    },
    {
     "name": "stdout",
     "output_type": "stream",
     "text": [
      "0\n"
     ]
    }
   ],
   "source": [
    "tf.reset_default_graph()\n",
    "x_in = tf.placeholder(tf.float32, name='x_in', shape=[H['image_height'], H['image_width'], 3])\n",
    "if H['use_rezoom']:\n",
    "    pred_boxes, pred_logits, pred_confidences, pred_confs_deltas, pred_boxes_deltas = build_forward(H, tf.expand_dims(x_in, 0), 'test', reuse=None)\n",
    "    grid_area = H['grid_height'] * H['grid_width']\n",
    "    pred_confidences = tf.reshape(tf.nn.softmax(tf.reshape(pred_confs_deltas, [grid_area * H['rnn_len'], 2])), [grid_area, H['rnn_len'], 2])\n",
    "    if H['reregress']:\n",
    "        pred_boxes = pred_boxes + pred_boxes_deltas\n",
    "else:\n",
    "    pred_boxes, pred_logits, pred_confidences = build_forward(H, tf.expand_dims(x_in, 0), 'test', reuse=None)\n",
    "saver = tf.train.Saver()\n",
    "with tf.Session() as sess:\n",
    "    sess.run(tf.global_variables_initializer())\n",
    "    saver.restore(sess, '%s/save.ckpt-%d' % (output_folder, iteration))\n",
    "\n",
    "    annolist = al.AnnoList()\n",
    "    import time; t = time.time()\n",
    "    for i in range(0, 500):\n",
    "        true_anno = true_annos[i]\n",
    "        img = imread('./data/brainwash/%s' % true_anno.imageName)\n",
    "        feed = {x_in: img}\n",
    "        (np_pred_boxes, np_pred_confidences) = sess.run([pred_boxes, pred_confidences], feed_dict=feed)\n",
    "        pred_anno = al.Annotation()\n",
    "        pred_anno.imageName = true_anno.imageName\n",
    "        new_img, rects = add_rectangles(H, [img], np_pred_confidences, np_pred_boxes,\n",
    "                                        use_stitching=True, rnn_len=H['rnn_len'], min_conf=0.7,\n",
    "                                        show_suppressed=False)\n",
    "    \n",
    "        pred_anno.rects = rects\n",
    "        annolist.append(pred_anno)\n",
    "\n",
    "        if i % 10 == 0 and i < 200:\n",
    "            pass\n",
    "            fig = plt.figure(figsize=(12, 12))\n",
    "            plt.imshow(new_img)\n",
    "        if i % 100 == 0:\n",
    "            print(i)\n",
    "    avg_time = (time.time() - t) / (i + 1)\n",
    "    print('%f images/sec' % (1. / avg_time))"
   ]
  },
  {
   "cell_type": "code",
   "execution_count": null,
   "metadata": {},
   "outputs": [],
   "source": [
    "annolist.save(pred_json)\n",
    "iou_threshold = 0.5\n",
    "rpc_cmd = './utils/annolist/doRPC.py --minOverlap %f %s %s' % (iou_threshold, true_json, pred_json)\n",
    "print('$ %s' % rpc_cmd)\n",
    "rpc_output = subprocess.check_output(rpc_cmd, shell=True)\n",
    "print(rpc_output)\n",
    "txt_file = [line for line in rpc_output.split('\\n') if line.strip()][-1]\n",
    "output_png = 'output/results.png'\n",
    "plot_cmd = './utils/annolist/plotSimple.py %s --output %s' % (txt_file, output_png)\n",
    "print('$ %s' % plot_cmd)\n",
    "plot_output = subprocess.check_output(plot_cmd, shell=True)\n",
    "from IPython.display import Image\n",
    "Image(filename=output_png) "
   ]
  },
  {
   "cell_type": "code",
   "execution_count": null,
   "metadata": {},
   "outputs": [],
   "source": []
  }
 ],
 "metadata": {
  "kernelspec": {
   "display_name": "Python 2",
   "language": "python",
   "name": "python2"
  },
  "language_info": {
   "codemirror_mode": {
    "name": "ipython",
    "version": 2
   },
   "file_extension": ".py",
   "mimetype": "text/x-python",
   "name": "python",
   "nbconvert_exporter": "python",
   "pygments_lexer": "ipython2",
   "version": "2.7.12"
  }
 },
 "nbformat": 4,
 "nbformat_minor": 1
}
